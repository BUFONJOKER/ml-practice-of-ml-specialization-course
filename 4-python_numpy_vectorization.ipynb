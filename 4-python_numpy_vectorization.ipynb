{
 "cells": [
  {
   "cell_type": "code",
   "execution_count": 118,
   "id": "d233b98c",
   "metadata": {},
   "outputs": [],
   "source": [
    "import numpy as np\n",
    "import time"
   ]
  },
  {
   "cell_type": "code",
   "execution_count": 119,
   "id": "46b5ed3f",
   "metadata": {},
   "outputs": [],
   "source": [
    "def print_array(array):\n",
    "    print(f\"array = {array}\")\n",
    "    print(f\"array shape = {array.shape}\")\n",
    "    print(f\"array data type = {array.dtype}\") "
   ]
  },
  {
   "cell_type": "code",
   "execution_count": 120,
   "id": "ddaeaaa6",
   "metadata": {},
   "outputs": [
    {
     "name": "stdout",
     "output_type": "stream",
     "text": [
      "array = [0. 0. 0. 0.]\n",
      "array shape = (4,)\n",
      "array data type = float64\n"
     ]
    }
   ],
   "source": [
    "array = np.zeros(4)\n",
    "print_array(array)"
   ]
  },
  {
   "cell_type": "code",
   "execution_count": 121,
   "id": "30ef9a28",
   "metadata": {},
   "outputs": [
    {
     "name": "stdout",
     "output_type": "stream",
     "text": [
      "array = [0. 0. 0. 0.]\n",
      "array shape = (4,)\n",
      "array data type = float64\n"
     ]
    }
   ],
   "source": [
    "array = np.zeros((4,))\n",
    "print_array(array)"
   ]
  },
  {
   "cell_type": "code",
   "execution_count": 122,
   "id": "e8819f0a",
   "metadata": {},
   "outputs": [
    {
     "name": "stdout",
     "output_type": "stream",
     "text": [
      "array = [[0.68680472 0.96967751]\n",
      " [0.74324501 0.29691275]]\n",
      "array shape = (2, 2)\n",
      "array data type = float64\n"
     ]
    }
   ],
   "source": [
    "array = np.random.random_sample([2,2])\n",
    "print_array(array)"
   ]
  },
  {
   "cell_type": "code",
   "execution_count": 123,
   "id": "2818e1c3",
   "metadata": {},
   "outputs": [
    {
     "name": "stdout",
     "output_type": "stream",
     "text": [
      "array = [0. 1. 2. 3. 4.]\n",
      "array shape = (5,)\n",
      "array data type = float64\n"
     ]
    }
   ],
   "source": [
    "array = np.arange(5.)\n",
    "print_array(array)"
   ]
  },
  {
   "cell_type": "code",
   "execution_count": 124,
   "id": "f7fce7c9",
   "metadata": {},
   "outputs": [
    {
     "name": "stdout",
     "output_type": "stream",
     "text": [
      "array = [0.15035416 0.49476419 0.76952018 0.08475613 0.55201978]\n",
      "array shape = (5,)\n",
      "array data type = float64\n"
     ]
    }
   ],
   "source": [
    "array = np.random.rand(5)\n",
    "print_array(array)"
   ]
  },
  {
   "cell_type": "code",
   "execution_count": 125,
   "id": "e950516a",
   "metadata": {},
   "outputs": [
    {
     "name": "stdout",
     "output_type": "stream",
     "text": [
      "array = [1 2 3 4]\n",
      "array shape = (4,)\n",
      "array data type = int64\n"
     ]
    }
   ],
   "source": [
    "array = np.array([1,2,3,4])\n",
    "print_array(array)"
   ]
  },
  {
   "cell_type": "code",
   "execution_count": 126,
   "id": "b92a6fe4",
   "metadata": {},
   "outputs": [
    {
     "name": "stdout",
     "output_type": "stream",
     "text": [
      "array = [1. 2. 3. 4.]\n",
      "array shape = (4,)\n",
      "array data type = float64\n"
     ]
    }
   ],
   "source": [
    "array = np.array([1.0,2.0,3,4.])\n",
    "print_array(array)"
   ]
  },
  {
   "cell_type": "code",
   "execution_count": 127,
   "id": "2bcea2e2",
   "metadata": {},
   "outputs": [
    {
     "name": "stdout",
     "output_type": "stream",
     "text": [
      "array = [0 1 2 3]\n",
      "array shape = (4,)\n",
      "array data type = int64\n",
      "array[2] = 2\n",
      "index 10 is out of bounds for axis 0 with size 4\n"
     ]
    }
   ],
   "source": [
    "array = np.arange(4)\n",
    "print_array(array)\n",
    "print(f\"array[2] = {array[2]}\")\n",
    "try:\n",
    "    c = array[10]\n",
    "except Exception as e:\n",
    "    print(e)"
   ]
  },
  {
   "cell_type": "code",
   "execution_count": 128,
   "id": "22563b89",
   "metadata": {},
   "outputs": [
    {
     "name": "stdout",
     "output_type": "stream",
     "text": [
      "array = [0 1 2 3 4 5 6 7 8 9]\n",
      "array shape = (10,)\n",
      "array data type = int64\n",
      "[0 2]\n",
      "[0 1 2 3 4 5 6 7 8 9]\n",
      "[9 8 7 6 5 4 3 2 1 0]\n",
      "[9 8 7 6]\n",
      "1\n"
     ]
    }
   ],
   "source": [
    "array = np.arange(10)\n",
    "print_array(array)\n",
    "print(array[0:4:2])\n",
    "print(array[:])\n",
    "print(array[::-1])\n",
    "print(array[:5:-1])\n",
    "print(array[1])"
   ]
  },
  {
   "cell_type": "code",
   "execution_count": 129,
   "id": "0dd26a20",
   "metadata": {},
   "outputs": [
    {
     "name": "stdout",
     "output_type": "stream",
     "text": [
      "10\n",
      "2.5\n",
      "[-1 -2 -3 -4]\n",
      "[ 1  4  9 16]\n"
     ]
    }
   ],
   "source": [
    "array = np.array([1, 2, 3, 4])\n",
    "sum_oper = np.sum(array)\n",
    "print(sum_oper)\n",
    "\n",
    "mean = np.mean(array)\n",
    "print(mean)\n",
    "\n",
    "negative = -array\n",
    "print(negative)\n",
    "\n",
    "exponent = array**2\n",
    "print(exponent)"
   ]
  },
  {
   "cell_type": "code",
   "execution_count": 130,
   "id": "93cfdc37",
   "metadata": {},
   "outputs": [
    {
     "name": "stdout",
     "output_type": "stream",
     "text": [
      "product = [ -8 -24 -48 -80]\n",
      "sum = [-2 -2 -2 -2]\n"
     ]
    }
   ],
   "source": [
    "array_1 = np.array([2,4,6,8])\n",
    "array_2 = np.array([-4,-6,-8,-10])\n",
    "\n",
    "product = array_1 * array_2\n",
    "print(f\"product = {product}\")\n",
    "\n",
    "sum = array_1 + array_2\n",
    "print(f\"sum = {sum}\")"
   ]
  },
  {
   "cell_type": "code",
   "execution_count": 131,
   "id": "83799e2b",
   "metadata": {},
   "outputs": [
    {
     "name": "stdout",
     "output_type": "stream",
     "text": [
      "[2 4]\n"
     ]
    }
   ],
   "source": [
    "array_3 = np.array([1,2])\n",
    "array_4 = np.array([1,2])\n",
    "\n",
    "try:\n",
    "    print(array_3+array_4)\n",
    "except Exception as e:\n",
    "    print(e)"
   ]
  },
  {
   "cell_type": "code",
   "execution_count": 132,
   "id": "4f2f2a98",
   "metadata": {},
   "outputs": [
    {
     "name": "stdout",
     "output_type": "stream",
     "text": [
      "[10 15]\n"
     ]
    }
   ],
   "source": [
    "array = np.array([2,3])\n",
    "print(array * 5)"
   ]
  },
  {
   "cell_type": "code",
   "execution_count": 133,
   "id": "37c610ef",
   "metadata": {},
   "outputs": [],
   "source": [
    "def dot_product(vector_1, vector_2):\n",
    "    \n",
    "    product = 0\n",
    "    \n",
    "    for i in range(vector_1.shape[0]):\n",
    "        product += vector_1[i] * vector_2[i] \n",
    "    return product"
   ]
  },
  {
   "cell_type": "code",
   "execution_count": 134,
   "id": "3528c642",
   "metadata": {},
   "outputs": [
    {
     "name": "stdout",
     "output_type": "stream",
     "text": [
      "dot product of vector_1 * vector_2 = [1 2 3 4] * [1 2 3 4] = 30\n"
     ]
    }
   ],
   "source": [
    "vector_1 = np.array([1,2,3,4])\n",
    "vector_2 = np.array([1,2,3,4])\n",
    "product = dot_product(vector_1,vector_2)\n",
    "print(f'''dot product of vector_1 * vector_2 = {vector_1} * {vector_2} = {product}''')"
   ]
  },
  {
   "cell_type": "code",
   "execution_count": 135,
   "id": "d7cd8fca",
   "metadata": {},
   "outputs": [
    {
     "name": "stdout",
     "output_type": "stream",
     "text": [
      "dot product of vector_1 * vector_2 = [1 2 3 4] * [1 2 3 4] = 30\n"
     ]
    }
   ],
   "source": [
    "vector_1 = np.array([1,2,3,4])\n",
    "vector_2 = np.array([1,2,3,4])\n",
    "product = np.dot(vector_1,vector_2)\n",
    "print(f'''dot product of vector_1 * vector_2 = {vector_1} * {vector_2} = {product}''')"
   ]
  },
  {
   "cell_type": "code",
   "execution_count": 136,
   "id": "8da08355",
   "metadata": {},
   "outputs": [
    {
     "name": "stdout",
     "output_type": "stream",
     "text": [
      "np.dot() = 2.93 in time 0.1471ms\n",
      "loop product variation = 2.93 in time 0.1762ms\n"
     ]
    }
   ],
   "source": [
    "a = np.random.rand(10)\n",
    "b = np.random.rand(10)\n",
    "\n",
    "start = time.time()\n",
    "c = np.dot(a, b)\n",
    "end = time.time()\n",
    "print(f\"np.dot() = {c:.2f} in time {1000*(end-start):.4f}ms\")\n",
    "\n",
    "start = time.time()\n",
    "c = dot_product(a,b)\n",
    "end = time.time()\n",
    "print(f\"loop product variation = {c:.2f} in time {1000*(end-start):.4f}ms\")\n",
    "del(a)\n",
    "del(b)"
   ]
  },
  {
   "cell_type": "code",
   "execution_count": 148,
   "id": "37550488",
   "metadata": {},
   "outputs": [
    {
     "name": "stdout",
     "output_type": "stream",
     "text": [
      "x.shape = (2, 1)\n",
      "w.shape = (1,)\n",
      "x[1] = [2]\n",
      "2\n"
     ]
    }
   ],
   "source": [
    "x = np.array([[1],[2]])\n",
    "print(f\"x.shape = {x.shape}\")\n",
    "\n",
    "w = np.array([1])\n",
    "print(f\"w.shape = {w.shape}\")\n",
    "\n",
    "dot_multiple = np.dot(x[1],w)\n",
    "print(f\"x[1] = {x[1]}\")\n",
    "print(dot_multiple)"
   ]
  },
  {
   "cell_type": "code",
   "execution_count": 151,
   "id": "0fbed3d3",
   "metadata": {},
   "outputs": [
    {
     "name": "stdout",
     "output_type": "stream",
     "text": [
      "a = [[1. 1.]\n",
      " [1. 1.]]\n",
      "a.shape = (2, 2)\n",
      "b = [[0. 0. 0.]\n",
      " [0. 0. 0.]\n",
      " [0. 0. 0.]]\n",
      "b.shape = (3, 3)\n",
      "c = [1]\n",
      "c.shape = (1,)\n"
     ]
    }
   ],
   "source": [
    "a = np.ones((2,2))\n",
    "b = np.zeros((3,3))\n",
    "print(f\"a = {a}\")\n",
    "print(f\"a.shape = {a.shape}\")\n",
    "print(f\"b = {b}\")\n",
    "print(f\"b.shape = {b.shape}\")\n",
    "\n",
    "c = np.array([1])\n",
    "print(f\"c = {c}\")\n",
    "print(f\"c.shape = {c.shape}\")"
   ]
  },
  {
   "cell_type": "code",
   "execution_count": 152,
   "id": "c52c326c",
   "metadata": {},
   "outputs": [
    {
     "name": "stdout",
     "output_type": "stream",
     "text": [
      "a = [[1]\n",
      " [2]\n",
      " [3]]\n",
      "a = [[1]\n",
      " [2]\n",
      " [3]]\n"
     ]
    }
   ],
   "source": [
    "a = np.array([[1],[2],[3]])\n",
    "print(f\"a = {a}\")\n",
    "\n",
    "a = np.array([\n",
    "    [1],\n",
    "    [2],\n",
    "    [3]\n",
    "])\n",
    "print(f\"a = {a}\")"
   ]
  },
  {
   "cell_type": "code",
   "execution_count": 161,
   "id": "7b06acdd",
   "metadata": {},
   "outputs": [
    {
     "name": "stdout",
     "output_type": "stream",
     "text": [
      "a = [[0 1]\n",
      " [2 3]\n",
      " [4 5]]\n",
      "a[0,1] = 1\n",
      "type(a[0,1]) = <class 'numpy.int64'>\n",
      "type(a[0]) = <class 'numpy.ndarray'>\n"
     ]
    }
   ],
   "source": [
    "a = np.arange(6).reshape(-1,2)\n",
    "print(f\"a = {a}\")\n",
    "print(f\"a[0,1] = {a[0,1]}\")\n",
    "print(f\"type(a[0,1]) = {type(a[0,1])}\")\n",
    "print(f\"type(a[0]) = {type(a[0])}\")"
   ]
  },
  {
   "cell_type": "code",
   "execution_count": 185,
   "id": "f0e528fc",
   "metadata": {},
   "outputs": [
    {
     "name": "stdout",
     "output_type": "stream",
     "text": [
      "a = [[ 0  1  2  3  4  5  6  7  8  9]\n",
      " [10 11 12 13 14 15 16 17 18 19]]\n",
      "a[0,1] = 1, a[0,1].shape = ()\n",
      "a[0,1] = [0 1 2 3 4 5 6 7 8 9], a[0].shape = (10,)\n",
      "a[0,1] = [ 1 11], a[:,1].shape = (2,)\n",
      "a[0,1] = [0 1 2 3 4 5 6 7 8 9], a[0,:].shape = (10,)\n",
      "a[:,2:7:4] = [[ 2  6]\n",
      " [12 16]], a[:,2:7:4].shape = (2, 2)\n"
     ]
    }
   ],
   "source": [
    "a = np.arange(20).reshape(-1,10)\n",
    "print(f\"a = {a}\")\n",
    "print(f\"a[0,1] = {a[0,1]}, a[0,1].shape = {a[0,1].shape}\")\n",
    "print(f\"a[0,1] = {a[0]}, a[0].shape = {a[0].shape}\")\n",
    "print(f\"a[0,1] = {a[:,1]}, a[:,1].shape = {a[:,1].shape}\")\n",
    "print(f\"a[0,1] = {a[0,:]}, a[0,:].shape = {a[0,:].shape}\")\n",
    "print(f\"a[:,2:7:4] = {a[:,2:7:4]}, a[:,2:7:4].shape = {a[:,2:7:4].shape}\")\n"
   ]
  },
  {
   "cell_type": "code",
   "execution_count": null,
   "id": "30b67c5a",
   "metadata": {},
   "outputs": [],
   "source": []
  }
 ],
 "metadata": {
  "kernelspec": {
   "display_name": "data_science",
   "language": "python",
   "name": "python3"
  },
  "language_info": {
   "codemirror_mode": {
    "name": "ipython",
    "version": 3
   },
   "file_extension": ".py",
   "mimetype": "text/x-python",
   "name": "python",
   "nbconvert_exporter": "python",
   "pygments_lexer": "ipython3",
   "version": "3.13.7"
  }
 },
 "nbformat": 4,
 "nbformat_minor": 5
}

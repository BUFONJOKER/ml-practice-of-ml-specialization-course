{
 "cells": [
  {
   "cell_type": "code",
   "execution_count": 3,
   "id": "7c594fef",
   "metadata": {},
   "outputs": [],
   "source": [
    "import numpy as np\n",
    "import matplotlib.pyplot as plt\n",
    "from sklearn.linear_model import SGDRegressor\n",
    "from sklearn.preprocessing import StandardScaler\n",
    "from lab_utils_multi import load_house_data\n",
    "from lab_utils_common import dlc\n",
    "plt.style.use('./deeplearning.mplstyle')"
   ]
  },
  {
   "cell_type": "code",
   "execution_count": 4,
   "id": "bb206190",
   "metadata": {},
   "outputs": [],
   "source": [
    "X_train, y_train = load_house_data()\n",
    "X_features = ['size(sqft)', 'bedrooms', 'floors', 'age']"
   ]
  },
  {
   "cell_type": "code",
   "execution_count": 5,
   "id": "362a9378",
   "metadata": {},
   "outputs": [
    {
     "name": "stdout",
     "output_type": "stream",
     "text": [
      "Without normalized peake to peak\n",
      "[2.406e+03 4.000e+00 1.000e+00 9.500e+01]\n",
      "Normalized peak to peak\n",
      "[5.8452591  6.13529646 2.05626214 3.68533012]\n"
     ]
    }
   ],
   "source": [
    "scaler = StandardScaler()\n",
    "X_norm = scaler.fit_transform(X_train)\n",
    "\n",
    "print(\"Without normalized peake to peak\")\n",
    "print(np.ptp(X_train,axis=0))\n",
    "\n",
    "print(\"Normalized peak to peak\")\n",
    "print(np.ptp(X_norm,axis=0))"
   ]
  },
  {
   "cell_type": "code",
   "execution_count": 6,
   "id": "3fed781d",
   "metadata": {},
   "outputs": [
    {
     "name": "stdout",
     "output_type": "stream",
     "text": [
      "SGDRegressor()\n",
      "Number of iterations completed = 127\n",
      "Number of weight updates = 12574.0\n"
     ]
    }
   ],
   "source": [
    "sgdr = SGDRegressor()\n",
    "sgdr.fit(X_norm, y_train)\n",
    "print(sgdr)\n",
    "print(f\"Number of iterations completed = {sgdr.n_iter_}\")\n",
    "print(f\"Number of weight updates = {sgdr.t_}\")"
   ]
  },
  {
   "cell_type": "code",
   "execution_count": 7,
   "id": "70907039",
   "metadata": {},
   "outputs": [
    {
     "name": "stdout",
     "output_type": "stream",
     "text": [
      "Model parameters\n",
      "w_norm = [110.18262927 -21.06920618 -32.47349345 -38.03631536] and b_norm = [363.15934488]\n",
      "model parameters from previous lab: w: [110.56 -21.27 -32.71 -37.97], b: 363.16\n"
     ]
    }
   ],
   "source": [
    "b_norm = sgdr.intercept_\n",
    "w_norm = sgdr.coef_\n",
    "print(\"Model parameters\")\n",
    "print(f\"w_norm = {w_norm} and b_norm = {b_norm}\")\n",
    "print( \"model parameters from previous lab: w: [110.56 -21.27 -32.71 -37.97], b: 363.16\")"
   ]
  },
  {
   "cell_type": "code",
   "execution_count": null,
   "id": "2463bbf4",
   "metadata": {},
   "outputs": [],
   "source": [
    "# make prediction using sgdr\n",
    "y_predict_sgd = sgdr.predict(X_norm)\n",
    "\n",
    "# make prediction usng w and b\n"
   ]
  }
 ],
 "metadata": {
  "kernelspec": {
   "display_name": "ml",
   "language": "python",
   "name": "python3"
  },
  "language_info": {
   "codemirror_mode": {
    "name": "ipython",
    "version": 3
   },
   "file_extension": ".py",
   "mimetype": "text/x-python",
   "name": "python",
   "nbconvert_exporter": "python",
   "pygments_lexer": "ipython3",
   "version": "3.14.0"
  }
 },
 "nbformat": 4,
 "nbformat_minor": 5
}

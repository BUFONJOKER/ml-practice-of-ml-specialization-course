{
 "cells": [
  {
   "cell_type": "code",
   "execution_count": 44,
   "id": "f81122b2",
   "metadata": {},
   "outputs": [],
   "source": [
    "import copy\n",
    "import math\n",
    "import numpy as np\n",
    "import matplotlib.pyplot as plt"
   ]
  },
  {
   "cell_type": "code",
   "execution_count": 45,
   "id": "fdd04b73",
   "metadata": {},
   "outputs": [],
   "source": [
    "X_train = np.array([\n",
    "    [2104, 5, 1, 45],\n",
    "    [1416, 3, 2, 40],\n",
    "    [852, 2, 1, 35]\n",
    "])\n",
    "\n",
    "y_train = np.array([460, 232, 178])"
   ]
  },
  {
   "cell_type": "code",
   "execution_count": 46,
   "id": "78410293",
   "metadata": {},
   "outputs": [
    {
     "name": "stdout",
     "output_type": "stream",
     "text": [
      "X_train shape = (3, 4)\n",
      "X_train = [[2104    5    1   45]\n",
      " [1416    3    2   40]\n",
      " [ 852    2    1   35]]\n",
      "y_train shape = (3,)\n",
      "y_train = [460 232 178]\n"
     ]
    }
   ],
   "source": [
    "print(f\"X_train shape = {X_train.shape}\")\n",
    "print(f\"X_train = {X_train}\")\n",
    "print(f\"y_train shape = {y_train.shape}\")\n",
    "print(f\"y_train = {y_train}\")"
   ]
  },
  {
   "cell_type": "code",
   "execution_count": 47,
   "id": "7b257084",
   "metadata": {},
   "outputs": [
    {
     "data": {
      "text/plain": [
       "numpy.ndarray"
      ]
     },
     "execution_count": 47,
     "metadata": {},
     "output_type": "execute_result"
    }
   ],
   "source": [
    "type(X_train)"
   ]
  },
  {
   "cell_type": "code",
   "execution_count": 48,
   "id": "61b89d92",
   "metadata": {},
   "outputs": [
    {
     "data": {
      "text/plain": [
       "numpy.ndarray"
      ]
     },
     "execution_count": 48,
     "metadata": {},
     "output_type": "execute_result"
    }
   ],
   "source": [
    "type(y_train)"
   ]
  },
  {
   "cell_type": "code",
   "execution_count": 49,
   "id": "922c7218",
   "metadata": {},
   "outputs": [],
   "source": [
    "b_init = 785.1811367994083\n",
    "w_init = np.array([ 0.39133535, 18.75376741, -53.36032453, -26.42131618])"
   ]
  },
  {
   "cell_type": "code",
   "execution_count": 50,
   "id": "a07c0f7f",
   "metadata": {},
   "outputs": [
    {
     "data": {
      "text/plain": [
       "float"
      ]
     },
     "execution_count": 50,
     "metadata": {},
     "output_type": "execute_result"
    }
   ],
   "source": [
    "type(b_init)"
   ]
  },
  {
   "cell_type": "code",
   "execution_count": 51,
   "id": "0f113434",
   "metadata": {},
   "outputs": [
    {
     "data": {
      "text/plain": [
       "numpy.ndarray"
      ]
     },
     "execution_count": 51,
     "metadata": {},
     "output_type": "execute_result"
    }
   ],
   "source": [
    "type(w_init)"
   ]
  },
  {
   "cell_type": "code",
   "execution_count": 52,
   "id": "0c4606e5",
   "metadata": {},
   "outputs": [
    {
     "data": {
      "text/plain": [
       "(4,)"
      ]
     },
     "execution_count": 52,
     "metadata": {},
     "output_type": "execute_result"
    }
   ],
   "source": [
    "w_init.shape"
   ]
  },
  {
   "cell_type": "code",
   "execution_count": 53,
   "id": "8dcdb0d1",
   "metadata": {},
   "outputs": [],
   "source": [
    "def predict_single_loop(x, w, b):\n",
    "    \n",
    "    n = x.shape[0]\n",
    "    p = 0\n",
    "    \n",
    "    for i in range(n):\n",
    "\n",
    "        p_i = x[i] * w[i]\n",
    "        p = p + p_i\n",
    "\n",
    "    return p + b\n",
    "    "
   ]
  },
  {
   "cell_type": "code",
   "execution_count": 54,
   "id": "06960a32",
   "metadata": {},
   "outputs": [],
   "source": [
    "X_vector = X_train[0,:]"
   ]
  },
  {
   "cell_type": "code",
   "execution_count": 55,
   "id": "3897efea",
   "metadata": {},
   "outputs": [
    {
     "data": {
      "text/plain": [
       "numpy.ndarray"
      ]
     },
     "execution_count": 55,
     "metadata": {},
     "output_type": "execute_result"
    }
   ],
   "source": [
    "type(X_train[0,:])"
   ]
  },
  {
   "cell_type": "code",
   "execution_count": 56,
   "id": "5c0e063b",
   "metadata": {},
   "outputs": [
    {
     "data": {
      "text/plain": [
       "(3, 4)"
      ]
     },
     "execution_count": 56,
     "metadata": {},
     "output_type": "execute_result"
    }
   ],
   "source": [
    "X_train.shape"
   ]
  },
  {
   "cell_type": "code",
   "execution_count": 57,
   "id": "2442e111",
   "metadata": {},
   "outputs": [
    {
     "data": {
      "text/plain": [
       "numpy.ndarray"
      ]
     },
     "execution_count": 57,
     "metadata": {},
     "output_type": "execute_result"
    }
   ],
   "source": [
    "type(X_vector)"
   ]
  },
  {
   "cell_type": "code",
   "execution_count": 58,
   "id": "966376b6",
   "metadata": {},
   "outputs": [
    {
     "name": "stdout",
     "output_type": "stream",
     "text": [
      "fw_b = 459.9999976194083\n"
     ]
    }
   ],
   "source": [
    "# make prediction\n",
    "\n",
    "fw_b = predict_single_loop(X_vector,w_init,b_init)\n",
    "print(f\"fw_b = {fw_b}\")"
   ]
  },
  {
   "cell_type": "code",
   "execution_count": 59,
   "id": "e05c5aa7",
   "metadata": {},
   "outputs": [],
   "source": [
    "def predict(x, w, b):\n",
    "    return np.dot(x, w) + b"
   ]
  },
  {
   "cell_type": "code",
   "execution_count": 60,
   "id": "37ff3fe8",
   "metadata": {},
   "outputs": [
    {
     "name": "stdout",
     "output_type": "stream",
     "text": [
      "fw_b = 459.9999976194083\n"
     ]
    }
   ],
   "source": [
    "fw_b = predict(X_vector,w_init,b_init)\n",
    "print(f\"fw_b = {fw_b}\")"
   ]
  },
  {
   "cell_type": "code",
   "execution_count": 61,
   "id": "e8e939a7",
   "metadata": {},
   "outputs": [],
   "source": [
    "def compute_cost(x, y, w, b ):\n",
    "    m = x.shape[0]\n",
    "    cost = 0\n",
    "    for i in range(m):\n",
    "        fw_b_i = np.dot(x[i],w) + b\n",
    "        cost = cost + (fw_b_i - y[i])**2\n",
    "    cost = cost/(2*m)\n",
    "    return cost"
   ]
  },
  {
   "cell_type": "code",
   "execution_count": 62,
   "id": "efc7a9c2",
   "metadata": {},
   "outputs": [
    {
     "name": "stdout",
     "output_type": "stream",
     "text": [
      "Cost at optimal weight = 1.5578904428966628e-12\n"
     ]
    }
   ],
   "source": [
    "cost = compute_cost(X_train, y_train, w_init, b_init)\n",
    "print(f\"Cost at optimal weight = {cost}\")"
   ]
  },
  {
   "cell_type": "code",
   "execution_count": 63,
   "id": "b0bb78c5",
   "metadata": {},
   "outputs": [],
   "source": [
    "def compute_gradient(X, y, w, b):\n",
    "\n",
    "    m,n =X.shape\n",
    "    dj_dw = np.zeros((n,))\n",
    "    dj_db = 0\n",
    "\n",
    "    for i in range(m):\n",
    "        err = (np.dot(X[i],w) + b) - y[i]\n",
    "        for j in range(n):\n",
    "            dj_dw[j] = dj_dw[j] + err * X[i,j]\n",
    "        dj_db = dj_db + err\n",
    "\n",
    "    dj_dw = dj_dw / m\n",
    "    dj_db = dj_db / m\n",
    "\n",
    "    return dj_db, dj_dw"
   ]
  },
  {
   "cell_type": "code",
   "execution_count": 64,
   "id": "b3e7bd04",
   "metadata": {},
   "outputs": [
    {
     "name": "stdout",
     "output_type": "stream",
     "text": [
      "dj_db = -1.6739251501955248e-06\n",
      "dj_dw = [-2.72623577e-03 -6.27197263e-06 -2.21745578e-06 -6.92403391e-05]\n"
     ]
    }
   ],
   "source": [
    "tmp_dj_db, tmp_dj_dw = compute_gradient(X_train, y_train, w_init,b_init)\n",
    "print(f\"dj_db = {tmp_dj_db}\")\n",
    "print(f\"dj_dw = {tmp_dj_dw}\")"
   ]
  },
  {
   "cell_type": "code",
   "execution_count": 65,
   "id": "16d0f591",
   "metadata": {},
   "outputs": [],
   "source": [
    "def gradient_descent(X, y, w_init, b_init, cost_function,\n",
    "                     gradient_function, alpha, num_iters):\n",
    "    \n",
    "    J_history = []\n",
    "    w = copy.deepcopy(w_init)\n",
    "    b = b_init\n",
    "\n",
    "    for i in range(num_iters):\n",
    "\n",
    "        dj_db, dj_dw = gradient_function(X, y, w, b)\n",
    "        w = w - alpha * dj_dw\n",
    "        b = b - alpha * dj_db\n",
    "\n",
    "        if i<10000:\n",
    "            J_history.append(cost_function(X, y, w, b))\n",
    "\n",
    "        if i % math.ceil(num_iters/10) == 0:\n",
    "            print(f\"Iteration {i:4d}: Cost{J_history[-1]:8.2f}\")\n",
    "\n",
    "    return w, b, J_history"
   ]
  },
  {
   "cell_type": "code",
   "execution_count": 66,
   "id": "cf9898c8",
   "metadata": {},
   "outputs": [
    {
     "name": "stdout",
     "output_type": "stream",
     "text": [
      "Iteration    0: Cost 2529.46\n",
      "Iteration  100: Cost  695.99\n",
      "Iteration  200: Cost  694.92\n",
      "Iteration  300: Cost  693.86\n",
      "Iteration  400: Cost  692.81\n",
      "Iteration  500: Cost  691.77\n",
      "Iteration  600: Cost  690.73\n",
      "Iteration  700: Cost  689.71\n",
      "Iteration  800: Cost  688.70\n",
      "Iteration  900: Cost  687.69\n",
      "b,w found by gradient descent: -0.00,[ 0.20396569  0.00374919 -0.0112487  -0.0658614 ] \n",
      "prediction: 426.19, target value: 460\n",
      "prediction: 286.17, target value: 232\n",
      "prediction: 171.47, target value: 178\n"
     ]
    }
   ],
   "source": [
    "initial_w = np.zeros_like(w_init)\n",
    "initial_b = 0\n",
    "iterations = 1000\n",
    "alpha = 5.0e-7\n",
    "\n",
    "w_final, b_final, J_hist = gradient_descent(\n",
    "    X_train, y_train, initial_w, initial_b, compute_cost,\n",
    "    compute_gradient, alpha, iterations\n",
    ")\n",
    "\n",
    "print(f\"b,w found by gradient descent: {b_final:0.2f},{w_final} \")\n",
    "\n",
    "m,_ = X_train.shape\n",
    "for i in range(m):\n",
    "    print(f\"prediction: {np.dot(X_train[i],w_final) + b_final:0.2f}, target value: {y_train[i]}\")"
   ]
  },
  {
   "cell_type": "code",
   "execution_count": 67,
   "id": "c41ec009",
   "metadata": {},
   "outputs": [
    {
     "data": {
      "image/png": "[encoded data removed]",
      "text/plain": [
       "<Figure size 1200x400 with 2 Axes>"
      ]
     },
     "metadata": {},
     "output_type": "display_data"
    }
   ],
   "source": [
    "fig, (ax1, ax2) = plt.subplots(1, 2, constrained_layout=True, figsize=(12,4))\n",
    "ax1.plot(J_hist)\n",
    "ax2.plot(100 + np.arange(len(J_hist[100:])), J_hist[100:])\n",
    "ax1.set_title(\"Cost vs Iteration\")\n",
    "ax2.set_title(\"Cost vs Iteration (tail)\")\n",
    "ax1.set_ylabel(\"Cost\")\n",
    "ax2.set_ylabel(\"Cost\")\n",
    "ax1.set_xlabel(\"Iteration Step\")\n",
    "ax2.set_xlabel(\"Iteration Step\")\n",
    "plt.show()"
   ]
  },
  {
   "cell_type": "code",
   "execution_count": null,
   "id": "b861c9cb",
   "metadata": {},
   "outputs": [],
   "source": []
  }
 ],
 "metadata": {
  "kernelspec": {
   "display_name": "ml",
   "language": "python",
   "name": "python3"
  },
  "language_info": {
   "codemirror_mode": {
    "name": "ipython",
    "version": 3
   },
   "file_extension": ".py",
   "mimetype": "text/x-python",
   "name": "python",
   "nbconvert_exporter": "python",
   "pygments_lexer": "ipython3",
   "version": "3.14.0"
  }
 },
 "nbformat": 4,
 "nbformat_minor": 5
}
